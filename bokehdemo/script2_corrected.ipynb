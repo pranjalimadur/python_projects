{
 "cells": [
  {
   "cell_type": "code",
   "execution_count": 19,
   "id": "satellite-midwest",
   "metadata": {},
   "outputs": [],
   "source": [
    "from bokeh.plotting import figure, output_file, show\n",
    "\n",
    "p = figure(plot_width=500, plot_height=400)\n",
    "\n",
    "p.title.text=\"Earthquake\"\n",
    "p.title.text_color=\"orange\"\n",
    "p.title.text_font=\"times\"\n",
    "p.title.text_font_style=\"italic\"\n",
    "\n",
    "p.circle([2,3,4,5,1],[8,6,8,5,1], size=[i*2 for i in [2,5,10,10,8]], color=\"red\", alpha=0.5)\n",
    "#p.scatter(x=\"X\", y=\"Y\", source=df)\n",
    "\n",
    "output_file(\"scatter.html\")\n",
    "show(p)"
   ]
  }
 ],
 "metadata": {
  "kernelspec": {
   "display_name": "Python 3",
   "language": "python",
   "name": "python3"
  },
  "language_info": {
   "codemirror_mode": {
    "name": "ipython",
    "version": 3
   },
   "file_extension": ".py",
   "mimetype": "text/x-python",
   "name": "python",
   "nbconvert_exporter": "python",
   "pygments_lexer": "ipython3",
   "version": "3.9.1"
  }
 },
 "nbformat": 4,
 "nbformat_minor": 5
}
